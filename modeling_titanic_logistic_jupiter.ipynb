{
 "cells": [
  {
   "cell_type": "code",
   "execution_count": null,
   "metadata": {},
   "outputs": [],
   "source": [
    "\"\"\"\n",
    "Here I am going to build my own model to predict the total number of people that survived in the famous Titanic disaster.\n",
    "All data used to run this are gotten from Kaggle Titanic competition\n",
    "I used Logistic regression for my model\n",
    "\"\"\""
   ]
  },
  {
   "cell_type": "code",
   "execution_count": 1,
   "metadata": {},
   "outputs": [],
   "source": [
    "#Let's start by importing basic Libraries\n",
    "import pandas as pd\n",
    "import numpy as np\n",
    "import matplotlib.pyplot as plt"
   ]
  },
  {
   "cell_type": "code",
   "execution_count": 3,
   "metadata": {},
   "outputs": [],
   "source": [
    "#importing data\n",
    "TrainSet = pd.read_csv('train.csv')\n",
    "TestSet = pd.read_csv('test.csv')"
   ]
  },
  {
   "cell_type": "code",
   "execution_count": 4,
   "metadata": {},
   "outputs": [
    {
     "name": "stdout",
     "output_type": "stream",
     "text": [
      "PassengerId has a toltal of 0 missing data\n",
      "\n",
      "\n",
      "Survived has a toltal of 0 missing data\n",
      "\n",
      "\n",
      "Pclass has a toltal of 0 missing data\n",
      "\n",
      "\n",
      "Name has a toltal of 0 missing data\n",
      "\n",
      "\n",
      "Sex has a toltal of 0 missing data\n",
      "\n",
      "\n",
      "Age has a toltal of 177 missing data\n",
      "\n",
      "\n",
      "SibSp has a toltal of 0 missing data\n",
      "\n",
      "\n",
      "Parch has a toltal of 0 missing data\n",
      "\n",
      "\n",
      "Ticket has a toltal of 0 missing data\n",
      "\n",
      "\n",
      "Fare has a toltal of 0 missing data\n",
      "\n",
      "\n",
      "Cabin has a toltal of 687 missing data\n",
      "\n",
      "\n",
      "Embarked has a toltal of 2 missing data\n",
      "\n",
      "\n"
     ]
    }
   ],
   "source": [
    "#Some little checks to determine how many missing data we have through the columns\n",
    "for col in TrainSet.columns.tolist():\n",
    "        print('{} has a toltal of {} missing data'.format(col, TrainSet[col].isnull().sum()))\n",
    "        print('\\n')\n"
   ]
  },
  {
   "cell_type": "code",
   "execution_count": 6,
   "metadata": {},
   "outputs": [
    {
     "data": {
      "text/html": [
       "<div>\n",
       "<style scoped>\n",
       "    .dataframe tbody tr th:only-of-type {\n",
       "        vertical-align: middle;\n",
       "    }\n",
       "\n",
       "    .dataframe tbody tr th {\n",
       "        vertical-align: top;\n",
       "    }\n",
       "\n",
       "    .dataframe thead th {\n",
       "        text-align: right;\n",
       "    }\n",
       "</style>\n",
       "<table border=\"1\" class=\"dataframe\">\n",
       "  <thead>\n",
       "    <tr style=\"text-align: right;\">\n",
       "      <th></th>\n",
       "      <th>PassengerId</th>\n",
       "      <th>Survived</th>\n",
       "      <th>Pclass</th>\n",
       "      <th>Name</th>\n",
       "      <th>Sex</th>\n",
       "      <th>Age</th>\n",
       "      <th>SibSp</th>\n",
       "      <th>Parch</th>\n",
       "      <th>Ticket</th>\n",
       "      <th>Fare</th>\n",
       "      <th>Cabin</th>\n",
       "      <th>Embarked</th>\n",
       "    </tr>\n",
       "  </thead>\n",
       "  <tbody>\n",
       "    <tr>\n",
       "      <th>0</th>\n",
       "      <td>1</td>\n",
       "      <td>0</td>\n",
       "      <td>3</td>\n",
       "      <td>Braund, Mr. Owen Harris</td>\n",
       "      <td>male</td>\n",
       "      <td>22.0</td>\n",
       "      <td>1</td>\n",
       "      <td>0</td>\n",
       "      <td>A/5 21171</td>\n",
       "      <td>7.2500</td>\n",
       "      <td>NaN</td>\n",
       "      <td>S</td>\n",
       "    </tr>\n",
       "    <tr>\n",
       "      <th>1</th>\n",
       "      <td>2</td>\n",
       "      <td>1</td>\n",
       "      <td>1</td>\n",
       "      <td>Cumings, Mrs. John Bradley (Florence Briggs Th...</td>\n",
       "      <td>female</td>\n",
       "      <td>38.0</td>\n",
       "      <td>1</td>\n",
       "      <td>0</td>\n",
       "      <td>PC 17599</td>\n",
       "      <td>71.2833</td>\n",
       "      <td>C85</td>\n",
       "      <td>C</td>\n",
       "    </tr>\n",
       "    <tr>\n",
       "      <th>2</th>\n",
       "      <td>3</td>\n",
       "      <td>1</td>\n",
       "      <td>3</td>\n",
       "      <td>Heikkinen, Miss. Laina</td>\n",
       "      <td>female</td>\n",
       "      <td>26.0</td>\n",
       "      <td>0</td>\n",
       "      <td>0</td>\n",
       "      <td>STON/O2. 3101282</td>\n",
       "      <td>7.9250</td>\n",
       "      <td>NaN</td>\n",
       "      <td>S</td>\n",
       "    </tr>\n",
       "    <tr>\n",
       "      <th>3</th>\n",
       "      <td>4</td>\n",
       "      <td>1</td>\n",
       "      <td>1</td>\n",
       "      <td>Futrelle, Mrs. Jacques Heath (Lily May Peel)</td>\n",
       "      <td>female</td>\n",
       "      <td>35.0</td>\n",
       "      <td>1</td>\n",
       "      <td>0</td>\n",
       "      <td>113803</td>\n",
       "      <td>53.1000</td>\n",
       "      <td>C123</td>\n",
       "      <td>S</td>\n",
       "    </tr>\n",
       "    <tr>\n",
       "      <th>4</th>\n",
       "      <td>5</td>\n",
       "      <td>0</td>\n",
       "      <td>3</td>\n",
       "      <td>Allen, Mr. William Henry</td>\n",
       "      <td>male</td>\n",
       "      <td>35.0</td>\n",
       "      <td>0</td>\n",
       "      <td>0</td>\n",
       "      <td>373450</td>\n",
       "      <td>8.0500</td>\n",
       "      <td>NaN</td>\n",
       "      <td>S</td>\n",
       "    </tr>\n",
       "  </tbody>\n",
       "</table>\n",
       "</div>"
      ],
      "text/plain": [
       "   PassengerId  Survived  Pclass  \\\n",
       "0            1         0       3   \n",
       "1            2         1       1   \n",
       "2            3         1       3   \n",
       "3            4         1       1   \n",
       "4            5         0       3   \n",
       "\n",
       "                                                Name     Sex   Age  SibSp  \\\n",
       "0                            Braund, Mr. Owen Harris    male  22.0      1   \n",
       "1  Cumings, Mrs. John Bradley (Florence Briggs Th...  female  38.0      1   \n",
       "2                             Heikkinen, Miss. Laina  female  26.0      0   \n",
       "3       Futrelle, Mrs. Jacques Heath (Lily May Peel)  female  35.0      1   \n",
       "4                           Allen, Mr. William Henry    male  35.0      0   \n",
       "\n",
       "   Parch            Ticket     Fare Cabin Embarked  \n",
       "0      0         A/5 21171   7.2500   NaN        S  \n",
       "1      0          PC 17599  71.2833   C85        C  \n",
       "2      0  STON/O2. 3101282   7.9250   NaN        S  \n",
       "3      0            113803  53.1000  C123        S  \n",
       "4      0            373450   8.0500   NaN        S  "
      ]
     },
     "execution_count": 6,
     "metadata": {},
     "output_type": "execute_result"
    }
   ],
   "source": [
    "#Also let us view our Dataset to see what is needed and what is not in calculating the survival of the passengers\n",
    "TrainSet.head()"
   ]
  },
  {
   "cell_type": "code",
   "execution_count": 7,
   "metadata": {},
   "outputs": [
    {
     "data": {
      "text/html": [
       "<div>\n",
       "<style scoped>\n",
       "    .dataframe tbody tr th:only-of-type {\n",
       "        vertical-align: middle;\n",
       "    }\n",
       "\n",
       "    .dataframe tbody tr th {\n",
       "        vertical-align: top;\n",
       "    }\n",
       "\n",
       "    .dataframe thead th {\n",
       "        text-align: right;\n",
       "    }\n",
       "</style>\n",
       "<table border=\"1\" class=\"dataframe\">\n",
       "  <thead>\n",
       "    <tr style=\"text-align: right;\">\n",
       "      <th></th>\n",
       "      <th>PassengerId</th>\n",
       "      <th>Pclass</th>\n",
       "      <th>Name</th>\n",
       "      <th>Sex</th>\n",
       "      <th>Age</th>\n",
       "      <th>SibSp</th>\n",
       "      <th>Parch</th>\n",
       "      <th>Ticket</th>\n",
       "      <th>Fare</th>\n",
       "      <th>Cabin</th>\n",
       "      <th>Embarked</th>\n",
       "    </tr>\n",
       "  </thead>\n",
       "  <tbody>\n",
       "    <tr>\n",
       "      <th>0</th>\n",
       "      <td>892</td>\n",
       "      <td>3</td>\n",
       "      <td>Kelly, Mr. James</td>\n",
       "      <td>male</td>\n",
       "      <td>34.5</td>\n",
       "      <td>0</td>\n",
       "      <td>0</td>\n",
       "      <td>330911</td>\n",
       "      <td>7.8292</td>\n",
       "      <td>NaN</td>\n",
       "      <td>Q</td>\n",
       "    </tr>\n",
       "    <tr>\n",
       "      <th>1</th>\n",
       "      <td>893</td>\n",
       "      <td>3</td>\n",
       "      <td>Wilkes, Mrs. James (Ellen Needs)</td>\n",
       "      <td>female</td>\n",
       "      <td>47.0</td>\n",
       "      <td>1</td>\n",
       "      <td>0</td>\n",
       "      <td>363272</td>\n",
       "      <td>7.0000</td>\n",
       "      <td>NaN</td>\n",
       "      <td>S</td>\n",
       "    </tr>\n",
       "    <tr>\n",
       "      <th>2</th>\n",
       "      <td>894</td>\n",
       "      <td>2</td>\n",
       "      <td>Myles, Mr. Thomas Francis</td>\n",
       "      <td>male</td>\n",
       "      <td>62.0</td>\n",
       "      <td>0</td>\n",
       "      <td>0</td>\n",
       "      <td>240276</td>\n",
       "      <td>9.6875</td>\n",
       "      <td>NaN</td>\n",
       "      <td>Q</td>\n",
       "    </tr>\n",
       "    <tr>\n",
       "      <th>3</th>\n",
       "      <td>895</td>\n",
       "      <td>3</td>\n",
       "      <td>Wirz, Mr. Albert</td>\n",
       "      <td>male</td>\n",
       "      <td>27.0</td>\n",
       "      <td>0</td>\n",
       "      <td>0</td>\n",
       "      <td>315154</td>\n",
       "      <td>8.6625</td>\n",
       "      <td>NaN</td>\n",
       "      <td>S</td>\n",
       "    </tr>\n",
       "    <tr>\n",
       "      <th>4</th>\n",
       "      <td>896</td>\n",
       "      <td>3</td>\n",
       "      <td>Hirvonen, Mrs. Alexander (Helga E Lindqvist)</td>\n",
       "      <td>female</td>\n",
       "      <td>22.0</td>\n",
       "      <td>1</td>\n",
       "      <td>1</td>\n",
       "      <td>3101298</td>\n",
       "      <td>12.2875</td>\n",
       "      <td>NaN</td>\n",
       "      <td>S</td>\n",
       "    </tr>\n",
       "  </tbody>\n",
       "</table>\n",
       "</div>"
      ],
      "text/plain": [
       "   PassengerId  Pclass                                          Name     Sex  \\\n",
       "0          892       3                              Kelly, Mr. James    male   \n",
       "1          893       3              Wilkes, Mrs. James (Ellen Needs)  female   \n",
       "2          894       2                     Myles, Mr. Thomas Francis    male   \n",
       "3          895       3                              Wirz, Mr. Albert    male   \n",
       "4          896       3  Hirvonen, Mrs. Alexander (Helga E Lindqvist)  female   \n",
       "\n",
       "    Age  SibSp  Parch   Ticket     Fare Cabin Embarked  \n",
       "0  34.5      0      0   330911   7.8292   NaN        Q  \n",
       "1  47.0      1      0   363272   7.0000   NaN        S  \n",
       "2  62.0      0      0   240276   9.6875   NaN        Q  \n",
       "3  27.0      0      0   315154   8.6625   NaN        S  \n",
       "4  22.0      1      1  3101298  12.2875   NaN        S  "
      ]
     },
     "execution_count": 7,
     "metadata": {},
     "output_type": "execute_result"
    }
   ],
   "source": [
    "#Let us do the same thing for our TestSet\n",
    "TestSet.head()"
   ]
  },
  {
   "cell_type": "code",
   "execution_count": 8,
   "metadata": {},
   "outputs": [
    {
     "data": {
      "text/plain": [
       "'\\nHere are a few things we observed:\\n1. Our training and test data have some missing vairables\\n2. Not every column is important to determining the survival of the pasanger (at least not for this model).\\n    Columns such as:\\n    * Name\\n    * Ticket\\n    * Fare (Not important as Pclass already covers this)\\n    * Cabin\\n    * Embarked\\n3. Our given test set does not have the dependent variable (Survived column)\\nBased on these observations, we will:\\n- replace the missing values with the median of the column\\n- remove the not too necessary columns\\n- take out the dependent variable (survived column) from the training set\\n\\n'"
      ]
     },
     "execution_count": 8,
     "metadata": {},
     "output_type": "execute_result"
    }
   ],
   "source": [
    "\"\"\"\n",
    "Here are a few things we observed:\n",
    "1. Our training and test data have some missing vairables\n",
    "2. Not every column is important to determining the survival of the pasanger (at least not for this model).\n",
    "    Columns such as:\n",
    "    * Name\n",
    "    * Ticket\n",
    "    * Fare (Not important as Pclass already covers this)\n",
    "    * Cabin\n",
    "    * Embarked\n",
    "3. Our given test set does not have the dependent variable (Survived column)\n",
    "Based on these observations, we will:\n",
    "- replace the missing values with the median of the column\n",
    "- remove the not too necessary columns\n",
    "- take out the dependent variable (survived column) from the training set\n",
    "\n",
    "\"\"\""
   ]
  },
  {
   "cell_type": "code",
   "execution_count": 9,
   "metadata": {},
   "outputs": [],
   "source": [
    "#Taking out the dependent variable from the training set\n",
    "Y_train = TrainSet.iloc[:, 1].values\n",
    "X_train = TrainSet.iloc[:,[0,2,4,5,6,7]].values"
   ]
  },
  {
   "cell_type": "code",
   "execution_count": 10,
   "metadata": {},
   "outputs": [],
   "source": [
    "#Missing data from our Training data\n",
    "from sklearn.preprocessing import Imputer\n",
    "imputer = Imputer(missing_values = 'NaN', strategy = 'median', axis = 0)\n",
    "imputer = imputer.fit(X_train[:, 3:4])\n",
    "X_train[:, 3:4] = imputer.transform(X_train[:, 3:4])\n"
   ]
  },
  {
   "cell_type": "code",
   "execution_count": 21,
   "metadata": {},
   "outputs": [],
   "source": [
    "#Let us split the training set X_train to create a temporary test set from the training set data.\n",
    "#This is to help us review our model as dependent column was not given in the original test set\n",
    "from sklearn.cross_validation import train_test_split\n",
    "X_train_temp, X_test_temp, Y_train_temp, Y_test_temp = train_test_split(X_train, Y_train, test_size = 0.33, random_state = 0)\n"
   ]
  },
  {
   "cell_type": "code",
   "execution_count": 12,
   "metadata": {},
   "outputs": [],
   "source": [
    "# Do not worry about any warning sign when you run the above. It is just telling us that cross_validation will soon be removed\n",
    "# as a python class and replaced with model_selection so worry not"
   ]
  },
  {
   "cell_type": "code",
   "execution_count": 22,
   "metadata": {},
   "outputs": [
    {
     "name": "stdout",
     "output_type": "stream",
     "text": [
      "[[243 2 'male' 29.0 0 0]\n",
      " [345 2 'male' 36.0 0 0]\n",
      " [171 1 'male' 61.0 0 0]\n",
      " [188 1 'male' 45.0 0 0]\n",
      " [801 2 'male' 34.0 0 0]\n",
      " [458 1 'female' 28.0 1 0]\n",
      " [653 3 'male' 21.0 0 0]\n",
      " [452 3 'male' 28.0 1 0]\n",
      " [79 2 'male' 0.83 0 2]\n",
      " [890 1 'male' 26.0 0 0]]\n",
      "\n",
      "\n",
      "[[496 3 'male' 28.0 0 0]\n",
      " [649 3 'male' 28.0 0 0]\n",
      " [279 3 'male' 7.0 4 1]\n",
      " [32 1 'female' 28.0 1 0]\n",
      " [256 3 'female' 29.0 0 2]\n",
      " [299 1 'male' 28.0 0 0]\n",
      " [610 1 'female' 40.0 0 0]\n",
      " [319 1 'female' 31.0 0 2]\n",
      " [485 1 'male' 25.0 1 0]\n",
      " [368 3 'female' 28.0 0 0]]\n"
     ]
    }
   ],
   "source": [
    "#Now let's see what our new temp set of data look like\n",
    "print(X_train_temp[0:10, 0:8])\n",
    "print('\\n')\n",
    "print(X_test_temp[0:10, 0:8])"
   ]
  },
  {
   "cell_type": "code",
   "execution_count": 23,
   "metadata": {},
   "outputs": [],
   "source": [
    "#Encoding categorical data 'Sex' from the temporary data:\n",
    "#Temporary Training Set\n",
    "from sklearn.preprocessing import LabelEncoder, OneHotEncoder\n",
    "labelencoder_X = LabelEncoder()\n",
    "X_train_temp[:, 2] = labelencoder_X.fit_transform(X_train_temp[:, 2])\n",
    "onehotencoder_X = OneHotEncoder(categorical_features = [2])\n",
    "X_train_temp = onehotencoder_X.fit_transform(X_train_temp).toarray()\n",
    "\n",
    "#Temporary Test Set\n",
    "from sklearn.preprocessing import LabelEncoder, OneHotEncoder\n",
    "X_test_temp[:, 2] = labelencoder_X.fit_transform(X_test_temp[:, 2])\n",
    "onehotencoder_X = OneHotEncoder(categorical_features = [2])\n",
    "X_test_temp = onehotencoder_X.fit_transform(X_test_temp).toarray()\n"
   ]
  },
  {
   "cell_type": "code",
   "execution_count": 26,
   "metadata": {},
   "outputs": [],
   "source": [
    "#Feature Scaling the Train and Test Set\n",
    "from sklearn.preprocessing import StandardScaler\n",
    "scaler = StandardScaler()\n",
    "X_train_temp = scaler.fit_transform(X_train_temp)\n",
    "X_test_temp = scaler.transform(X_test_temp)\n"
   ]
  },
  {
   "cell_type": "code",
   "execution_count": 27,
   "metadata": {},
   "outputs": [
    {
     "data": {
      "text/plain": [
       "LogisticRegression(C=1.0, class_weight=None, dual=False, fit_intercept=True,\n",
       "          intercept_scaling=1, max_iter=100, multi_class='ovr', n_jobs=1,\n",
       "          penalty='l2', random_state=0, solver='liblinear', tol=0.0001,\n",
       "          verbose=0, warm_start=False)"
      ]
     },
     "execution_count": 27,
     "metadata": {},
     "output_type": "execute_result"
    }
   ],
   "source": [
    "#Now Let's train with our Temp Training Set\n",
    "from sklearn.linear_model import LogisticRegression\n",
    "classifier = LogisticRegression(random_state = 0)\n",
    "classifier.fit(X_train_temp, Y_train_temp)"
   ]
  },
  {
   "cell_type": "code",
   "execution_count": 28,
   "metadata": {},
   "outputs": [],
   "source": [
    "#Using our trained model to predict the temporary dependent variable\n",
    "Y_pred_temp = classifier.predict(X_test_temp)"
   ]
  },
  {
   "cell_type": "code",
   "execution_count": 29,
   "metadata": {},
   "outputs": [
    {
     "name": "stdout",
     "output_type": "stream",
     "text": [
      "[[152  32]\n",
      " [ 31  80]]\n"
     ]
    }
   ],
   "source": [
    "# Now let us use Matrix of confusion to see how accurate our prediction was\n",
    "from sklearn.metrics import confusion_matrix\n",
    "cm_temp = confusion_matrix(Y_test_temp, Y_pred_temp)\n",
    "print(cm_temp)"
   ]
  },
  {
   "cell_type": "code",
   "execution_count": 39,
   "metadata": {},
   "outputs": [],
   "source": [
    "# From our confution matrix above, we can see that we predicted 152 No (Did not survive) correctly\n",
    "# and predicted 80 yes correctly. This brings us to a total of 232 correctly predicted out of 295. \n",
    "# This means our prediction for the temporary set of Data had 78.64% accuracy\n",
    "# Now we will visualize this more in a graph\n",
    "# Now we will combine our training set back to predict the test set. This should have more accuracy as we will be having more data to train"
   ]
  },
  {
   "cell_type": "code",
   "execution_count": 40,
   "metadata": {},
   "outputs": [],
   "source": [
    "\"\"\" Remember we have these below already\n",
    "Y_train = TrainSet.iloc[:, 1].values\n",
    "X_train = TrainSet.iloc[:,[0,2,4,5,6,7]].values\n",
    "\"\"\"\n",
    "#Also, remember we created our temporary data from the training data.\n",
    "#Now we will also include the original test set\n",
    "X_test = TestSet.iloc[:,[0,1,3,4,5,6]].values"
   ]
  },
  {
   "cell_type": "code",
   "execution_count": 42,
   "metadata": {},
   "outputs": [
    {
     "name": "stdout",
     "output_type": "stream",
     "text": [
      "[[892 3 'male' 34.5 0 0]\n",
      " [893 3 'female' 47.0 1 0]\n",
      " [894 2 'male' 62.0 0 0]\n",
      " [895 3 'male' 27.0 0 0]\n",
      " [896 3 'female' 22.0 1 1]\n",
      " [897 3 'male' 14.0 0 0]\n",
      " [898 3 'female' 30.0 0 0]\n",
      " [899 2 'male' 26.0 1 1]\n",
      " [900 3 'female' 18.0 0 0]\n",
      " [901 3 'male' 21.0 2 0]]\n"
     ]
    }
   ],
   "source": [
    "# Let's take care of the Missing data from the Test data\n",
    "imputerT = Imputer(missing_values = 'NaN', strategy = 'median', axis = 0)\n",
    "imputerT = imputerT.fit(X_test[:, 3:4])\n",
    "X_test[:, 3:4] = imputerT.transform(X_test[:, 3:4])\n",
    "\n",
    "print(X_test[:10, 0:])"
   ]
  },
  {
   "cell_type": "code",
   "execution_count": 43,
   "metadata": {},
   "outputs": [],
   "source": [
    "# Now let us take care of the categorical data in both train and test set. \n",
    "#Remember we have already imported LabelEncoder and OneHotEncoder created their respective objects\n",
    "#Training Set\n",
    "X_train[:, 2] = labelencoder_X.fit_transform(X_train[:, 2])\n",
    "X_train = onehotencoder_X.fit_transform(X_train).toarray()\n",
    "\n",
    "#Test Set\n",
    "X_test[:, 2] = labelencoder_X.fit_transform(X_test[:, 2])\n",
    "X_test = onehotencoder_X.fit_transform(X_test).toarray()\n"
   ]
  },
  {
   "cell_type": "code",
   "execution_count": 44,
   "metadata": {},
   "outputs": [],
   "source": [
    "#Feature Scaling the Train and Test Set\n",
    "X_train = scaler.fit_transform(X_train)\n",
    "X_test = scaler.transform(X_test)"
   ]
  },
  {
   "cell_type": "code",
   "execution_count": 45,
   "metadata": {},
   "outputs": [],
   "source": [
    "# Now Let's train with our main Training Set and predict the test sets\n",
    "classifier.fit(X_train, Y_train)\n",
    "\n",
    "Y_pred = classifier.predict(X_test)\n"
   ]
  },
  {
   "cell_type": "code",
   "execution_count": 46,
   "metadata": {},
   "outputs": [
    {
     "name": "stdout",
     "output_type": "stream",
     "text": [
      "Total Predicted \"NO\" (Did Not Survive) = 254 \n",
      "Total predicted \"YES\" (Survived) = 164.\n"
     ]
    }
   ],
   "source": [
    "# Let us see what our prediction looks like. Note that we dont have the actual values for the test set to calculate confusion matrix\n",
    "# So we use a simple function to check the total number of 'YES' and 'NO' our model predicted\n",
    "\n",
    "def summary(predicted):\n",
    "    predictList = predicted.tolist()\n",
    "    sum_no = 0\n",
    "    sum_yes = 0\n",
    "    for i in range(len(predictList)):\n",
    "        if predictList[i] == 0:\n",
    "            sum_no = sum_no + 1\n",
    "        else:\n",
    "            sum_yes = sum_yes + 1\n",
    "    print(\"Total Predicted \\\"NO\\\" (Did Not Survive) = {} \\nTotal predicted \\\"YES\\\" (Survived) = {}.\".format(sum_no, sum_yes))\n",
    "\n",
    "summary(Y_pred)\n"
   ]
  },
  {
   "cell_type": "code",
   "execution_count": null,
   "metadata": {},
   "outputs": [],
   "source": []
  }
 ],
 "metadata": {
  "kernelspec": {
   "display_name": "Python 3",
   "language": "python",
   "name": "python3"
  },
  "language_info": {
   "codemirror_mode": {
    "name": "ipython",
    "version": 3
   },
   "file_extension": ".py",
   "mimetype": "text/x-python",
   "name": "python",
   "nbconvert_exporter": "python",
   "pygments_lexer": "ipython3",
   "version": "3.7.0"
  }
 },
 "nbformat": 4,
 "nbformat_minor": 2
}
